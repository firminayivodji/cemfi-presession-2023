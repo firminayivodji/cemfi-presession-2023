{
  "cells": [
    {
      "attachments": {},
      "cell_type": "markdown",
      "metadata": {
        "id": "vbFlO6GyH04C"
      },
      "source": [
        "# Intro to Jupyter Notebooks and Google Colab\n",
        "\n",
        "[![Open In Colab](https://colab.research.google.com/assets/colab-badge.svg)](https://colab.research.google.com/github/unstructured-data/cemfi-presession-2023/blob/main/notebooks/intro_notebook.ipynb)\n",
        "\n",
        "<br><br>\n",
        "\n",
        "- Advantages and limitations\n",
        "- Navigation panel\n",
        "- Downloading notebooks\n"
      ]
    },
    {
      "cell_type": "code",
      "execution_count": null,
      "metadata": {},
      "outputs": [],
      "source": [
        "# some python code\n",
        "2+2"
      ]
    },
    {
      "cell_type": "code",
      "execution_count": null,
      "metadata": {
        "id": "bAzxtuu2GfW1"
      },
      "outputs": [],
      "source": [
        "# install python libraries\n",
        "!pip3 install pandas"
      ]
    }
  ],
  "metadata": {
    "colab": {
      "provenance": []
    },
    "kernelspec": {
      "display_name": "Python 3",
      "name": "python3"
    },
    "language_info": {
      "name": "python"
    }
  },
  "nbformat": 4,
  "nbformat_minor": 0
}
