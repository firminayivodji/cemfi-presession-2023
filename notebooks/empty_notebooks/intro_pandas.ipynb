{
  "cells": [
    {
      "attachments": {},
      "cell_type": "markdown",
      "metadata": {
        "id": "q2eRjQCONuDm"
      },
      "source": [
        "# Introduction to Pandas\n",
        "\n",
        "\n",
        "[![Open In Colab](https://colab.research.google.com/assets/colab-badge.svg)](https://colab.research.google.com/github/unstructured-data/cemfi-presession-2023/blob/main/notebooks/empty_notebooks/intro_pandas.ipynb)\n",
        "\n",
        "\n",
        "This is the empty version of the notebook I use as the starting point for the videos. If you want to see the version of the notebook with all the content go [here](../intro_pandas.ipynb).\n"
      ]
    },
    {
      "cell_type": "code",
      "execution_count": 1,
      "metadata": {
        "id": "gjyo8N0L3KGt"
      },
      "outputs": [],
      "source": [
        "# load pandas into memory"
      ]
    },
    {
      "cell_type": "code",
      "execution_count": 2,
      "metadata": {
        "id": "IHivxf_y3KGu"
      },
      "outputs": [],
      "source": [
        "# what are we importing?"
      ]
    },
    {
      "cell_type": "code",
      "execution_count": 3,
      "metadata": {
        "colab": {
          "base_uri": "https://localhost:8080/"
        },
        "id": "ZILq1T6Y3KGu",
        "outputId": "8f3cb02f-d227-4420-ffd6-57fb18352c2b"
      },
      "outputs": [],
      "source": [
        "# create a dataframe from a dictionary (countries and currency)"
      ]
    },
    {
      "cell_type": "code",
      "execution_count": 4,
      "metadata": {
        "colab": {
          "base_uri": "https://localhost:8080/",
          "height": 423
        },
        "id": "3bULFs6y3KGu",
        "outputId": "aa328d12-468b-47fb-809c-ccc38b549911"
      },
      "outputs": [],
      "source": [
        "# read data from a csv file (Colab sample files: sample_data/california_housing_train.csv)"
      ]
    },
    {
      "cell_type": "code",
      "execution_count": 5,
      "metadata": {
        "colab": {
          "base_uri": "https://localhost:8080/",
          "height": 1000
        },
        "id": "mNRdJVJ53KGu",
        "outputId": "8cde7cab-1eaf-4d99-d1d4-df373348360a"
      },
      "outputs": [],
      "source": [
        "# reading data from other file types (JSON)"
      ]
    },
    {
      "cell_type": "code",
      "execution_count": 6,
      "metadata": {
        "id": "7AnnBTdetRUy"
      },
      "outputs": [],
      "source": [
        "# reading data from other file types (Excel, Stata). Data files are not available\n",
        "#df_excel = pd.read_excel(\"data/iris.xlsx\", sheet_name=\"Sheet 1\")\n",
        "#df_stata = pd.read_stata(\"data/iris.dta\")"
      ]
    },
    {
      "cell_type": "code",
      "execution_count": 7,
      "metadata": {
        "id": "ddMXagPoiB07"
      },
      "outputs": [],
      "source": [
        "# read data from file with a different separator. Data file not available\n",
        "#df = pd.read_csv(\"data/iris.txt\", sep=\"\\t\")"
      ]
    },
    {
      "attachments": {},
      "cell_type": "markdown",
      "metadata": {
        "id": "8C7PK8s1wJqa"
      },
      "source": [
        "## Working with DataFrames"
      ]
    },
    {
      "cell_type": "code",
      "execution_count": 8,
      "metadata": {
        "colab": {
          "base_uri": "https://localhost:8080/",
          "height": 344
        },
        "id": "U04tp-xrt_eY",
        "outputId": "98646263-1c0e-4b35-ee53-607ad939defd"
      },
      "outputs": [],
      "source": [
        "# describe dataframe"
      ]
    },
    {
      "cell_type": "code",
      "execution_count": 9,
      "metadata": {
        "colab": {
          "base_uri": "https://localhost:8080/"
        },
        "id": "pjDwIFw3iiMI",
        "outputId": "f04f30fe-523c-4ebe-9333-ac1da8a13ad0"
      },
      "outputs": [],
      "source": [
        "# get all the column names from a dataframe"
      ]
    },
    {
      "cell_type": "code",
      "execution_count": 10,
      "metadata": {
        "colab": {
          "base_uri": "https://localhost:8080/"
        },
        "id": "hS9KtHsE3KGv",
        "outputId": "314673b1-a7a9-4e4e-edf9-c1796ed5a4c1"
      },
      "outputs": [],
      "source": [
        "# select a column using its name"
      ]
    },
    {
      "cell_type": "code",
      "execution_count": 11,
      "metadata": {
        "colab": {
          "base_uri": "https://localhost:8080/",
          "height": 423
        },
        "id": "VC4CwM1M3KGv",
        "outputId": "1b66b586-c5c6-4f9c-dd93-4abd667d98bf"
      },
      "outputs": [],
      "source": [
        "# select a row using its index"
      ]
    },
    {
      "cell_type": "code",
      "execution_count": 12,
      "metadata": {
        "colab": {
          "base_uri": "https://localhost:8080/"
        },
        "id": "Og2AFqu33KGv",
        "outputId": "8952cffc-385f-4060-9d0a-02ae58b3915d"
      },
      "outputs": [],
      "source": [
        "# select a particular cell"
      ]
    },
    {
      "cell_type": "code",
      "execution_count": 13,
      "metadata": {
        "colab": {
          "base_uri": "https://localhost:8080/",
          "height": 423
        },
        "id": "QQLlIwLn3KGv",
        "outputId": "325d58f0-0410-43a1-fb2e-6c8e8965d01e"
      },
      "outputs": [],
      "source": [
        "# filter data"
      ]
    },
    {
      "cell_type": "code",
      "execution_count": 14,
      "metadata": {
        "colab": {
          "base_uri": "https://localhost:8080/"
        },
        "id": "ARgXdg5EjiWZ",
        "outputId": "1083442c-2b88-4fdb-8b85-88ae26cb4e75"
      },
      "outputs": [],
      "source": [
        "# sum all elements of a column (what is the total population?)"
      ]
    },
    {
      "cell_type": "code",
      "execution_count": 15,
      "metadata": {
        "colab": {
          "base_uri": "https://localhost:8080/"
        },
        "id": "vdNN07jtQUfg",
        "outputId": "ab524d49-898e-4418-cf9a-dd5a07956509"
      },
      "outputs": [],
      "source": [
        "# apply a custom function to all elements of a column"
      ]
    },
    {
      "cell_type": "code",
      "execution_count": 16,
      "metadata": {
        "colab": {
          "base_uri": "https://localhost:8080/",
          "height": 487
        },
        "id": "ynX_LKg43KGw",
        "outputId": "1447c24a-fbf4-42ac-9332-e1ae555a3e93"
      },
      "outputs": [],
      "source": [
        "# create a new column"
      ]
    },
    {
      "attachments": {},
      "cell_type": "markdown",
      "metadata": {
        "id": "c-qwp2mH3KGw"
      },
      "source": [
        "## Loading data from other sources"
      ]
    },
    {
      "cell_type": "code",
      "execution_count": 17,
      "metadata": {
        "colab": {
          "base_uri": "https://localhost:8080/",
          "height": 502
        },
        "id": "3tkvkHbxc_ep",
        "outputId": "15d3239f-7148-43bc-afc0-9864ad1132b2"
      },
      "outputs": [],
      "source": [
        "# read data from URL: https://raw.githubusercontent.com/datasciencedojo/datasets/master/titanic.csv"
      ]
    },
    {
      "cell_type": "code",
      "execution_count": null,
      "metadata": {
        "id": "NxnYkN4i3KGw"
      },
      "outputs": [],
      "source": [
        "# read data from a public Google Drive URL\n",
        "file_id = \"1k086m12gBHKuVMPv4GUD1aB_kZOZpznR\"\n",
        "url = f\"https://drive.google.com/uc?export=download&id={file_id}&authuser=0&export=download\"\n",
        "df = pd.read_csv(url, sep=\"\\t\")\n",
        "df"
      ]
    },
    {
      "cell_type": "code",
      "execution_count": null,
      "metadata": {
        "id": "QycLHH-33KGw"
      },
      "outputs": [],
      "source": [
        "# mount our own Google Drive\n",
        "from google.colab import drive\n",
        "drive.mount('/content/drive')"
      ]
    }
  ],
  "metadata": {
    "colab": {
      "provenance": []
    },
    "kernelspec": {
      "display_name": "Python 3",
      "name": "python3"
    },
    "language_info": {
      "codemirror_mode": {
        "name": "ipython",
        "version": 3
      },
      "file_extension": ".py",
      "mimetype": "text/x-python",
      "name": "python",
      "nbconvert_exporter": "python",
      "pygments_lexer": "ipython3",
      "version": "3.10.2"
    }
  },
  "nbformat": 4,
  "nbformat_minor": 0
}
