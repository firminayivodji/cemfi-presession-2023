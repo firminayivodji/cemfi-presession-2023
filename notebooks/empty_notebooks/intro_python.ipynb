{
  "cells": [
    {
      "attachments": {},
      "cell_type": "markdown",
      "metadata": {
        "id": "q2eRjQCONuDm"
      },
      "source": [
        "# Introduction to Python\n",
        "\n",
        "\n",
        "[![Open In Colab](https://colab.research.google.com/assets/colab-badge.svg)](https://colab.research.google.com/github/unstructured-data/cemfi-presession-2023/blob/main/notebooks/empty_notebooks/intro_python.ipynb)\n",
        "\n",
        "\n",
        "This is the empty version of the notebook I use as the starting point for the videos. If you want to see the version of the notebook with all the content go [here](../intro_python.ipynb)."
      ]
    },
    {
      "attachments": {},
      "cell_type": "markdown",
      "metadata": {
        "id": "sjz99kjZAdoA"
      },
      "source": [
        "## Why Python?\n",
        "\n",
        "- Great implementations of machine learning methods\n",
        "  - [scikit-learn](https://scikit-learn.org/stable/): logistic regression, decision trees, clustering algorithms, and much more.\n",
        "  - [PyTorch](https://pytorch.org/), [Keras](https://keras.io), [JAX](https://jax.readthedocs.io/en/latest/notebooks/quickstart.html): building blocks for neural networks\n",
        "  - [HuggingFace](https://huggingface.co/): High-level abstractions to work with modern language models and computer vision models\n",
        "\n",
        "- Versatility\n",
        "- Support\n",
        "  - Large community of active users\n",
        "  - Modern generative language models can create useful fragments of code"
      ]
    },
    {
      "attachments": {},
      "cell_type": "markdown",
      "metadata": {
        "id": "EtUEl1gh3KGn"
      },
      "source": [
        "## Variables and data types\n",
        "\n",
        "- Variables are created using the = sign\n",
        "- Basic data types in Python:\n",
        "  - Strings: ```\"Hi!\"```\n",
        "  - Integers: ```2```\n",
        "  - Floats: ```4.4```\n",
        "  - Booleans: ```True```"
      ]
    },
    {
      "cell_type": "code",
      "execution_count": 1,
      "metadata": {
        "id": "oU4Ia1z5NnNV"
      },
      "outputs": [],
      "source": [
        "# defining variables in Python and exploring different data types"
      ]
    },
    {
      "cell_type": "code",
      "execution_count": 2,
      "metadata": {
        "colab": {
          "base_uri": "https://localhost:8080/"
        },
        "id": "Tm6HaKJnJBYb",
        "outputId": "181aec51-f708-41a7-9898-a8187ab17dae"
      },
      "outputs": [],
      "source": [
        "# operations with numbers"
      ]
    },
    {
      "cell_type": "code",
      "execution_count": 3,
      "metadata": {
        "colab": {
          "base_uri": "https://localhost:8080/",
          "height": 36
        },
        "id": "VT7dDXR0JC36",
        "outputId": "b6ab52aa-4d75-4d0b-b55b-7576f457945e"
      },
      "outputs": [],
      "source": [
        "# operations with strings"
      ]
    },
    {
      "attachments": {},
      "cell_type": "markdown",
      "metadata": {
        "id": "qcIheVep3KGr"
      },
      "source": [
        "## Lists\n",
        "\n",
        "- Basic object in Python to store multiple values together\n",
        "- Represented by square brackets ```[ ]```\n"
      ]
    },
    {
      "cell_type": "code",
      "execution_count": 4,
      "metadata": {
        "id": "_JVzv-eE3eG2"
      },
      "outputs": [],
      "source": [
        "# create an empty list"
      ]
    },
    {
      "cell_type": "code",
      "execution_count": 5,
      "metadata": {
        "id": "SaHZ277B3KGr"
      },
      "outputs": [],
      "source": [
        "# create lists"
      ]
    },
    {
      "cell_type": "code",
      "execution_count": 6,
      "metadata": {
        "colab": {
          "base_uri": "https://localhost:8080/",
          "height": 36
        },
        "id": "rS-xtrPI3KGs",
        "outputId": "0b1aae32-2370-4721-ebc7-718a677b930d"
      },
      "outputs": [],
      "source": [
        "# get the first element of a list"
      ]
    },
    {
      "cell_type": "code",
      "execution_count": 7,
      "metadata": {
        "id": "2FTaYKWM4B2N"
      },
      "outputs": [],
      "source": [
        "# change an element within a list"
      ]
    },
    {
      "cell_type": "code",
      "execution_count": 8,
      "metadata": {
        "colab": {
          "base_uri": "https://localhost:8080/"
        },
        "id": "R7VKnsr8PDg-",
        "outputId": "3a7a6e30-545c-4f5e-fc84-44aaad647a8b"
      },
      "outputs": [],
      "source": [
        "# add elements to a list"
      ]
    },
    {
      "cell_type": "code",
      "execution_count": 9,
      "metadata": {
        "id": "vPd5i_0GPi-r"
      },
      "outputs": [],
      "source": [
        "# list of lists"
      ]
    },
    {
      "attachments": {},
      "cell_type": "markdown",
      "metadata": {
        "id": "KAA8Bjat3VxP"
      },
      "source": [
        "## Dictionaries\n",
        "\n",
        "- Represented by curly brackets ```{}```\n",
        "- Consists of a collection of key-value pairs. Each key-value pair maps the key to its associated value\n"
      ]
    },
    {
      "cell_type": "code",
      "execution_count": 10,
      "metadata": {
        "id": "ywtJBE1k5plK"
      },
      "outputs": [],
      "source": [
        "# empty dictionary"
      ]
    },
    {
      "cell_type": "code",
      "execution_count": 11,
      "metadata": {
        "id": "F5t-IsHj3KGs"
      },
      "outputs": [],
      "source": [
        "# create a non-empty dictionary (groceries list)"
      ]
    },
    {
      "cell_type": "code",
      "execution_count": 12,
      "metadata": {
        "colab": {
          "base_uri": "https://localhost:8080/"
        },
        "id": "Se4ZdRvWUopB",
        "outputId": "40ea5723-7731-402c-f24e-006984d3fc9a"
      },
      "outputs": [],
      "source": [
        "# access elements of dictionaries"
      ]
    },
    {
      "cell_type": "code",
      "execution_count": 13,
      "metadata": {
        "id": "dNGtfanGXQKv"
      },
      "outputs": [],
      "source": [
        "# create a dictionary with integers as keys"
      ]
    },
    {
      "cell_type": "code",
      "execution_count": 14,
      "metadata": {
        "id": "I_S9nJlFXbSx"
      },
      "outputs": [],
      "source": [
        "# add new key-value pairs to dictionary"
      ]
    },
    {
      "cell_type": "code",
      "execution_count": 15,
      "metadata": {
        "colab": {
          "base_uri": "https://localhost:8080/"
        },
        "id": "fqIYdFMAaDSY",
        "outputId": "cd45c81c-a72a-46ae-cbc2-77c6e634fd2b"
      },
      "outputs": [],
      "source": [
        "# access all keys"
      ]
    },
    {
      "cell_type": "code",
      "execution_count": 16,
      "metadata": {
        "colab": {
          "base_uri": "https://localhost:8080/"
        },
        "id": "_w0PAvioaC9A",
        "outputId": "e03267c7-0295-4b25-d076-23993077526d"
      },
      "outputs": [],
      "source": [
        "# access all values"
      ]
    },
    {
      "attachments": {},
      "cell_type": "markdown",
      "metadata": {
        "id": "mF2YoLdf3KGt"
      },
      "source": [
        "## For loops and list comprehensions"
      ]
    },
    {
      "cell_type": "code",
      "execution_count": 17,
      "metadata": {
        "colab": {
          "base_uri": "https://localhost:8080/"
        },
        "id": "DYyVNMKh_fbl",
        "outputId": "b5178234-7f2b-4bd3-87d0-8b79a4d8cfb3"
      },
      "outputs": [],
      "source": [
        "# loop over elements of a list"
      ]
    },
    {
      "cell_type": "code",
      "execution_count": 18,
      "metadata": {
        "colab": {
          "base_uri": "https://localhost:8080/"
        },
        "id": "PoLmOHvE6dLF",
        "outputId": "5c6d6dad-8827-4cb2-b75a-ce72119f69cb"
      },
      "outputs": [],
      "source": [
        "# loop over a range"
      ]
    },
    {
      "cell_type": "code",
      "execution_count": 19,
      "metadata": {
        "colab": {
          "base_uri": "https://localhost:8080/"
        },
        "id": "tCconc1R6Us5",
        "outputId": "562b1c45-e9ec-4280-e057-dc33a18332af"
      },
      "outputs": [],
      "source": [
        "# loop over a string"
      ]
    },
    {
      "cell_type": "code",
      "execution_count": 20,
      "metadata": {
        "colab": {
          "base_uri": "https://localhost:8080/"
        },
        "id": "Bn8uxk6AaFR7",
        "outputId": "6ac6d230-6505-4729-f36f-5eff7b3c1a1b"
      },
      "outputs": [],
      "source": [
        "# for loop in one line"
      ]
    },
    {
      "cell_type": "code",
      "execution_count": 21,
      "metadata": {
        "colab": {
          "base_uri": "https://localhost:8080/"
        },
        "id": "o8f3_R_Q6b1C",
        "outputId": "187a96cf-5130-4e17-8ae7-0495cbe5deb2"
      },
      "outputs": [],
      "source": [
        "# list comprehension"
      ]
    },
    {
      "attachments": {},
      "cell_type": "markdown",
      "metadata": {
        "id": "BBpKY7ONyB_u"
      },
      "source": [
        "## Conditional statements\n",
        "\n",
        "- We can use the ```if``` statement in Python to check if a logical condition is true\n",
        "- Python supports basic logical operations such as:\n",
        "    - Equal: ``` == ```\n",
        "    - Not equal: ``` != ``` \n",
        "    - Greater than: ``` > ```\n",
        "    - Smaller than: ``` < ```\n",
        "- After an ```if``` statement we can also use ```elif``` (i.e. else + if) and ```else``` to specify what happens when none of the logical conditions are true"
      ]
    },
    {
      "cell_type": "code",
      "execution_count": 22,
      "metadata": {
        "colab": {
          "base_uri": "https://localhost:8080/"
        },
        "id": "YCuBmlbDyB_v",
        "outputId": "c9045cbb-563e-4501-ffbc-541365068ea3"
      },
      "outputs": [],
      "source": [
        "# basic if statement"
      ]
    },
    {
      "cell_type": "code",
      "execution_count": 23,
      "metadata": {
        "colab": {
          "base_uri": "https://localhost:8080/"
        },
        "id": "80KB5IPkyB_v",
        "outputId": "cc579cfc-1b6d-4f2f-a697-0207cb5735af"
      },
      "outputs": [],
      "source": [
        "# if + else statement"
      ]
    },
    {
      "cell_type": "code",
      "execution_count": 24,
      "metadata": {
        "colab": {
          "base_uri": "https://localhost:8080/"
        },
        "id": "wuw5H0C2yB_v",
        "outputId": "ec7cff28-172c-4204-cdbc-22bfb1de06f9"
      },
      "outputs": [],
      "source": [
        "# if + elif + else statement"
      ]
    },
    {
      "attachments": {},
      "cell_type": "markdown",
      "metadata": {
        "id": "Fk9NXtxXyB_v"
      },
      "source": [
        "## Functions\n",
        "\n",
        "- A function is a re-usable block of code that performs one or multiple operations. Functions usually take inputs and return outputs.\n",
        "- Python has a set of basic pre-built functions. [Here](https://www.w3schools.com/python/python_ref_functions.asp) is a full list but some of the most used are:\n",
        "  - ```print( )```\n",
        "  - ```len( )```\n",
        "  - ```abs( )```, ```max( )```, ```min( )```\n",
        "  - ```range( )``` <br><br>\n",
        "\n",
        "- Additional functions can be brought to Python by importing packages\n",
        "- Functions can also be defined by the user using the ``` def my_function():``` syntax "
      ]
    },
    {
      "cell_type": "code",
      "execution_count": 25,
      "metadata": {
        "colab": {
          "base_uri": "https://localhost:8080/"
        },
        "id": "KvNRE6gFyB_w",
        "outputId": "aaa7a910-53ea-40ad-9a30-877cdd8e2aa9"
      },
      "outputs": [],
      "source": [
        "# example of pre-built functions"
      ]
    },
    {
      "cell_type": "code",
      "execution_count": 26,
      "metadata": {
        "colab": {
          "base_uri": "https://localhost:8080/"
        },
        "id": "6Z4T7-l3yB_w",
        "outputId": "18008bd4-6410-48d1-936f-9d7bd6b3641b"
      },
      "outputs": [],
      "source": [
        "# functions from objects"
      ]
    },
    {
      "cell_type": "code",
      "execution_count": 27,
      "metadata": {
        "id": "dlwmaEeKyB_w"
      },
      "outputs": [],
      "source": [
        "# define my own function"
      ]
    }
  ],
  "metadata": {
    "colab": {
      "provenance": []
    },
    "kernelspec": {
      "display_name": "Python 3",
      "name": "python3"
    },
    "language_info": {
      "codemirror_mode": {
        "name": "ipython",
        "version": 3
      },
      "file_extension": ".py",
      "mimetype": "text/x-python",
      "name": "python",
      "nbconvert_exporter": "python",
      "pygments_lexer": "ipython3",
      "version": "3.10.2"
    }
  },
  "nbformat": 4,
  "nbformat_minor": 0
}
